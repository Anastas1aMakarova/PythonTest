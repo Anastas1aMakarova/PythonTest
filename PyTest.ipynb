{
  "nbformat": 4,
  "nbformat_minor": 0,
  "metadata": {
    "colab": {
      "provenance": [],
      "authorship_tag": "ABX9TyOTQi8kWrRShWAgRs/1wPow",
      "include_colab_link": true
    },
    "kernelspec": {
      "name": "python3",
      "display_name": "Python 3"
    },
    "language_info": {
      "name": "python"
    }
  },
  "cells": [
    {
      "cell_type": "markdown",
      "metadata": {
        "id": "view-in-github",
        "colab_type": "text"
      },
      "source": [
        "<a href=\"https://colab.research.google.com/github/Anastas1aMakarova/PythonTest/blob/main/PyTest.ipynb\" target=\"_parent\"><img src=\"https://colab.research.google.com/assets/colab-badge.svg\" alt=\"Open In Colab\"/></a>"
      ]
    },
    {
      "cell_type": "code",
      "source": [
        "import pandas as pd #для работы с табличными данными\n",
        "from datetime import datetime #для работы с датами и временем\n",
        "\n",
        "#функция для загрузки данных\n",
        "def extract_data():\n",
        "    data = {\n",
        "        #загрузка данных из Excel\n",
        "        'airports': pd.read_excel('data/airports.xlsx'),\n",
        "        'aircrafts': pd.read_excel('data/aircrafts.xlsx'),\n",
        "        'tickets': pd.read_excel('data/tickets.xlsx'),\n",
        "        'flights': pd.read_excel('data/flights.xlsx'),\n",
        "        'ticket_flights': pd.read_excel('data/ticket_flights.xlsx'),\n",
        "        #загрузка данных из HTML-файла - обращаемся к первому объекту списка\n",
        "        'festivals': pd.read_html('festivals/Festival News.htm')[0]\n",
        "    }\n",
        "    return data\n",
        "\n",
        "#функция для преобразования данных\n",
        "def transform_data(data):\n",
        "    #подготовка таблицы с рейсами\n",
        "    flights = data['flights']\n",
        "    #преобразование даты рейса в неделю и вынесение в отдельный столбец\n",
        "    flights['week'] = pd.to_datetime(flights['departure_time']).dt.isocalendar().week\n",
        "    #объединение с таблицей по самолетам  и таблицей по аэропортам (наименования столбцов с одними и теми же данными разные)\n",
        "    flights_merged = flights.merge(data['aircrafts'], on='aircraft_code').merge(data['airports'], left_on='departure_airport', right_on='airport_code')\n",
        "\n",
        "    #подготовка таблицы с билетами (совпадений по рейсам в таблице ticket_flights и таблице flights нет, поэтому результат объединения - пустая таблица)\n",
        "    ticket_merged = data['ticket_flights'].merge(flights, on='flight_id').merge(data['airports'], left_on='departure_airport', right_on='airport_code')\n",
        "\n",
        "    #подготовка таблицы с данными фестивалей\n",
        "    festivals = data['festivals']\n",
        "    #преобразование даты фестиваля в неделю и вынесение в отдельный столбец\n",
        "    festivals['week'] = pd.to_datetime(festivals['Дата проведения'], format='%d.%m.%Y').dt.isocalendar().week\n",
        "    #переименовываем столбцы, чтобы в дальнейшем было проще объядинить в результатную таблицу\n",
        "    festivals = festivals.rename(columns={'Название фестиваля': 'festival_name',\n",
        "                                          'Место проведения': 'city',\n",
        "                                          'Дата проведения': 'festival_date'})\n",
        "\n",
        "    #подсчет\n",
        "    #количество вылетов из каждого аэропорта по каждой модели самолета (подсчет кол-ва элементов через size())\n",
        "    flights_departure = flights_merged.groupby(['week', 'departure_airport', 'city', 'model']).size().reset_index(name='cnt_flights_departure')\n",
        "    #количество прилетов из каждого аэропорта по каждой модели самолета\n",
        "    flights_arrival = flights_merged.groupby(['week', 'arrival_airport', 'city', 'model']).size().reset_index(name=\"cnt_flights_arrival\")\n",
        "    #среднее количество прибывающих рейсов для каждого города (сначала кол-во по неделям и городам, затем по данным расчетам через mean() среднеее по городам)\n",
        "    #поскольку считается среднее по городам, рассчитанный показатель по каждому городу дублируется в таблице напротив соответствующего города)\n",
        "    avg_flights = flights_merged.groupby(['week', 'city']).size().groupby(['city']).mean().reset_index(name=\"average_flights\")\n",
        "    #количество купленных билетов для каждого города и аэропорта\n",
        "    tickets_count = ticket_merged.groupby([\"week\", \"city\", \"departure_airport\"]).size().reset_index(name=\"ticket_amount\")\n",
        "\n",
        "    #объединение в результативную таблицу\n",
        "    result = flights_departure.merge(\n",
        "        flights_arrival, on=['week', 'city', 'model'], how='outer').merge(\n",
        "        avg_flights, on=['city'], how=\"left\").merge(\n",
        "        tickets_count, on=['week', 'city', 'departure_airport'], how=\"left\").merge(\n",
        "        festivals, on=['week', 'city'], how=\"left\")\n",
        "\n",
        "    #удаление лишних столбцов и упорядочивание столбцов\n",
        "    result = result.drop(['arrival_airport', 'festival_date'], axis=1)\n",
        "    result = result.reindex(columns=[\n",
        "        'week', 'city', 'departure_airport', 'model', 'festival_name',\n",
        "        'cnt_flights_departure', 'cnt_flights_arrival', 'average_flights', 'ticket_amount'\n",
        "    ])\n",
        "    return result\n",
        "\n",
        "#функция для выгрузки данных\n",
        "def load_data(result, output_file):\n",
        "    #Сохраняем в Excel\n",
        "    output_file = \"result.xlsx\"\n",
        "    result.to_excel(output_file, index=False)\n",
        "    print(f\"Данные сохранены в файл: {output_file}\")\n",
        "\n",
        "#ETL-процесс\n",
        "def etl():\n",
        "    data = extract_data()\n",
        "    transformed_data = transform_data(data)\n",
        "    load_data(transformed_data, \"result.xlsx\")\n",
        "\n",
        "#Запуск приложения\n",
        "if __name__ == \"__main__\":\n",
        "    etl()"
      ],
      "metadata": {
        "colab": {
          "base_uri": "https://localhost:8080/"
        },
        "id": "EiPj3oUAxsWw",
        "outputId": "ff4dd395-e478-4a46-edcd-0caafd05d9fe"
      },
      "execution_count": null,
      "outputs": [
        {
          "output_type": "stream",
          "name": "stdout",
          "text": [
            "Данные сохранены в файл: result.xlsx\n"
          ]
        }
      ]
    }
  ]
}